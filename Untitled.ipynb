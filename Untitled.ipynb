{
 "cells": [
  {
   "cell_type": "code",
   "execution_count": 1,
   "metadata": {},
   "outputs": [
    {
     "name": "stderr",
     "output_type": "stream",
     "text": [
      "/root/miniconda3/envs/torch-graph/lib/python3.8/site-packages/tqdm/auto.py:21: TqdmWarning: IProgress not found. Please update jupyter and ipywidgets. See https://ipywidgets.readthedocs.io/en/stable/user_install.html\n",
      "  from .autonotebook import tqdm as notebook_tqdm\n"
     ]
    }
   ],
   "source": [
    "import argparse\n",
    "import os.path as osp\n",
    "\n",
    "import torch\n",
    "import torch.optim as optim\n",
    "\n",
    "from pyg_dataloader import KGData\n",
    "from torch_geometric.nn import ComplEx, DistMult, RotatE, TransE\n",
    "\n",
    "model_map = {\n",
    "    'transe': TransE,\n",
    "    'complex': ComplEx,\n",
    "    'distmult': DistMult,\n",
    "    'rotate': RotatE,\n",
    "}"
   ]
  },
  {
   "cell_type": "code",
   "execution_count": 2,
   "metadata": {},
   "outputs": [],
   "source": [
    "# import ipdb\n",
    "# %pdb on"
   ]
  },
  {
   "cell_type": "code",
   "execution_count": 3,
   "metadata": {},
   "outputs": [],
   "source": [
    "path = '../dataset/FB15K237/'\n",
    "device='cuda:0'\n",
    "model_name = 'rotate'"
   ]
  },
  {
   "cell_type": "code",
   "execution_count": 4,
   "metadata": {},
   "outputs": [],
   "source": [
    "train_data = KGData(path, split='train')[0].to(device)\n",
    "val_data = KGData(path, split='val')[0].to(device)\n",
    "test_data = KGData(path, split='test')[0].to(device)"
   ]
  },
  {
   "cell_type": "code",
   "execution_count": 5,
   "metadata": {},
   "outputs": [],
   "source": [
    "model_arg_map = {'rotate': {'margin': 9.0}}\n",
    "model = model_map[model_name](\n",
    "    num_nodes=train_data.num_nodes,\n",
    "    num_relations=train_data.num_edge_types,\n",
    "    hidden_channels=50,\n",
    "    **model_arg_map.get(model_name, {}),\n",
    ").to(device)"
   ]
  },
  {
   "cell_type": "code",
   "execution_count": 6,
   "metadata": {},
   "outputs": [],
   "source": [
    "loader = model.loader(\n",
    "    head_index=train_data.edge_index[0],\n",
    "    rel_type=train_data.edge_type,\n",
    "    tail_index=train_data.edge_index[1],\n",
    "    batch_size=1000,\n",
    "    shuffle=True,\n",
    ")\n",
    "\n",
    "optimizer_map = {\n",
    "    'transe': optim.Adam(model.parameters(), lr=0.01),\n",
    "    'complex': optim.Adagrad(model.parameters(), lr=0.001, weight_decay=1e-6),\n",
    "    'distmult': optim.Adam(model.parameters(), lr=0.0001, weight_decay=1e-6),\n",
    "    'rotate': optim.Adam(model.parameters(), lr=1e-3),\n",
    "}\n",
    "optimizer = optimizer_map[model_name]"
   ]
  },
  {
   "cell_type": "code",
   "execution_count": 7,
   "metadata": {},
   "outputs": [
    {
     "name": "stdout",
     "output_type": "stream",
     "text": [
      "Epoch: 001, Loss: 4.1396\n",
      "Epoch: 002, Loss: 3.5518\n",
      "Epoch: 003, Loss: 2.9820\n",
      "Epoch: 004, Loss: 2.4954\n",
      "Epoch: 005, Loss: 2.1152\n",
      "Epoch: 006, Loss: 1.8179\n",
      "Epoch: 007, Loss: 1.5833\n",
      "Epoch: 008, Loss: 1.3974\n",
      "Epoch: 009, Loss: 1.2480\n",
      "Epoch: 010, Loss: 1.1284\n",
      "Epoch: 011, Loss: 1.0316\n",
      "Epoch: 012, Loss: 0.9511\n",
      "Epoch: 013, Loss: 0.8834\n",
      "Epoch: 014, Loss: 0.8270\n",
      "Epoch: 015, Loss: 0.7790\n",
      "Epoch: 016, Loss: 0.7408\n",
      "Epoch: 017, Loss: 0.7062\n",
      "Epoch: 018, Loss: 0.6777\n",
      "Epoch: 019, Loss: 0.6537\n",
      "Epoch: 020, Loss: 0.6329\n",
      "Epoch: 021, Loss: 0.6155\n",
      "Epoch: 022, Loss: 0.5998\n",
      "Epoch: 023, Loss: 0.5865\n",
      "Epoch: 024, Loss: 0.5742\n",
      "Epoch: 025, Loss: 0.5628\n"
     ]
    },
    {
     "name": "stderr",
     "output_type": "stream",
     "text": [
      "100%|██████████| 17535/17535 [00:10<00:00, 1744.27it/s]\n"
     ]
    },
    {
     "name": "stdout",
     "output_type": "stream",
     "text": [
      "Epoch: 025, Val Mean Rank: 3186.07, Val Mean Reciprocal Rank: 0.0161,               Val Hits@1: 0.0074, Val Hits@3: 0.0122, Val Hits@5: 0.0164, Val Hits@10: 0.0270\n",
      "Epoch: 026, Loss: 0.5527\n",
      "Epoch: 027, Loss: 0.5419\n",
      "Epoch: 028, Loss: 0.5325\n",
      "Epoch: 029, Loss: 0.5234\n",
      "Epoch: 030, Loss: 0.5135\n",
      "Epoch: 031, Loss: 0.5036\n",
      "Epoch: 032, Loss: 0.4937\n",
      "Epoch: 033, Loss: 0.4842\n",
      "Epoch: 034, Loss: 0.4742\n",
      "Epoch: 035, Loss: 0.4640\n",
      "Epoch: 036, Loss: 0.4536\n",
      "Epoch: 037, Loss: 0.4435\n",
      "Epoch: 038, Loss: 0.4337\n",
      "Epoch: 039, Loss: 0.4235\n",
      "Epoch: 040, Loss: 0.4128\n",
      "Epoch: 041, Loss: 0.4026\n",
      "Epoch: 042, Loss: 0.3924\n",
      "Epoch: 043, Loss: 0.3818\n",
      "Epoch: 044, Loss: 0.3726\n",
      "Epoch: 045, Loss: 0.3625\n",
      "Epoch: 046, Loss: 0.3530\n",
      "Epoch: 047, Loss: 0.3433\n",
      "Epoch: 048, Loss: 0.3340\n",
      "Epoch: 049, Loss: 0.3247\n",
      "Epoch: 050, Loss: 0.3156\n"
     ]
    },
    {
     "name": "stderr",
     "output_type": "stream",
     "text": [
      "100%|██████████| 17535/17535 [00:10<00:00, 1595.86it/s]\n"
     ]
    },
    {
     "name": "stdout",
     "output_type": "stream",
     "text": [
      "Epoch: 050, Val Mean Rank: 1191.29, Val Mean Reciprocal Rank: 0.1211,               Val Hits@1: 0.0668, Val Hits@3: 0.1241, Val Hits@5: 0.1654, Val Hits@10: 0.2323\n",
      "Epoch: 051, Loss: 0.3065\n",
      "Epoch: 052, Loss: 0.2979\n",
      "Epoch: 053, Loss: 0.2893\n",
      "Epoch: 054, Loss: 0.2811\n",
      "Epoch: 055, Loss: 0.2736\n",
      "Epoch: 056, Loss: 0.2658\n",
      "Epoch: 057, Loss: 0.2588\n",
      "Epoch: 058, Loss: 0.2513\n",
      "Epoch: 059, Loss: 0.2450\n",
      "Epoch: 060, Loss: 0.2379\n",
      "Epoch: 061, Loss: 0.2316\n",
      "Epoch: 062, Loss: 0.2251\n",
      "Epoch: 063, Loss: 0.2195\n",
      "Epoch: 064, Loss: 0.2143\n",
      "Epoch: 065, Loss: 0.2091\n",
      "Epoch: 066, Loss: 0.2041\n",
      "Epoch: 067, Loss: 0.1996\n",
      "Epoch: 068, Loss: 0.1942\n",
      "Epoch: 069, Loss: 0.1906\n",
      "Epoch: 070, Loss: 0.1858\n",
      "Epoch: 071, Loss: 0.1825\n",
      "Epoch: 072, Loss: 0.1780\n",
      "Epoch: 073, Loss: 0.1741\n",
      "Epoch: 074, Loss: 0.1705\n",
      "Epoch: 075, Loss: 0.1676\n"
     ]
    },
    {
     "name": "stderr",
     "output_type": "stream",
     "text": [
      "100%|██████████| 17535/17535 [00:10<00:00, 1731.15it/s]\n"
     ]
    },
    {
     "name": "stdout",
     "output_type": "stream",
     "text": [
      "Epoch: 075, Val Mean Rank: 402.34, Val Mean Reciprocal Rank: 0.2204,               Val Hits@1: 0.1411, Val Hits@3: 0.2370, Val Hits@5: 0.2942, Val Hits@10: 0.3845\n",
      "Epoch: 076, Loss: 0.1648\n",
      "Epoch: 077, Loss: 0.1612\n",
      "Epoch: 078, Loss: 0.1585\n",
      "Epoch: 079, Loss: 0.1558\n",
      "Epoch: 080, Loss: 0.1535\n",
      "Epoch: 081, Loss: 0.1514\n",
      "Epoch: 082, Loss: 0.1495\n",
      "Epoch: 083, Loss: 0.1469\n",
      "Epoch: 084, Loss: 0.1442\n",
      "Epoch: 085, Loss: 0.1418\n",
      "Epoch: 086, Loss: 0.1407\n",
      "Epoch: 087, Loss: 0.1385\n",
      "Epoch: 088, Loss: 0.1376\n",
      "Epoch: 089, Loss: 0.1355\n",
      "Epoch: 090, Loss: 0.1341\n",
      "Epoch: 091, Loss: 0.1320\n",
      "Epoch: 092, Loss: 0.1311\n",
      "Epoch: 093, Loss: 0.1300\n",
      "Epoch: 094, Loss: 0.1287\n",
      "Epoch: 095, Loss: 0.1276\n",
      "Epoch: 096, Loss: 0.1253\n",
      "Epoch: 097, Loss: 0.1253\n",
      "Epoch: 098, Loss: 0.1241\n",
      "Epoch: 099, Loss: 0.1237\n",
      "Epoch: 100, Loss: 0.1221\n"
     ]
    },
    {
     "name": "stderr",
     "output_type": "stream",
     "text": [
      "100%|██████████| 17535/17535 [00:10<00:00, 1740.65it/s]\n"
     ]
    },
    {
     "name": "stdout",
     "output_type": "stream",
     "text": [
      "Epoch: 100, Val Mean Rank: 248.46, Val Mean Reciprocal Rank: 0.2448,               Val Hits@1: 0.1623, Val Hits@3: 0.2617, Val Hits@5: 0.3212, Val Hits@10: 0.4160\n"
     ]
    },
    {
     "name": "stderr",
     "output_type": "stream",
     "text": [
      "100%|██████████| 20466/20466 [00:11<00:00, 1849.59it/s]"
     ]
    },
    {
     "name": "stdout",
     "output_type": "stream",
     "text": [
      "Test Mean Rank: 265.86, Test Mean Reciprocal Rank: 0.2397, Test Hits@1: 0.1573,      Test Hits@3: 0.2558, Val Hits@5: 0.3165, Test Hits@10: 0.4109\n"
     ]
    },
    {
     "name": "stderr",
     "output_type": "stream",
     "text": [
      "\n"
     ]
    }
   ],
   "source": [
    "def train():\n",
    "    model.train()\n",
    "    total_loss = total_examples = 0\n",
    "    for head_index, rel_type, tail_index in loader:\n",
    "        optimizer.zero_grad()\n",
    "        loss = model.loss(head_index, rel_type, tail_index)\n",
    "        loss.backward()\n",
    "        optimizer.step()\n",
    "        total_loss += float(loss) * head_index.numel()\n",
    "        total_examples += head_index.numel()\n",
    "    return total_loss / total_examples\n",
    "\n",
    "\n",
    "@torch.no_grad()\n",
    "def test(data):\n",
    "    model.eval()\n",
    "    return model.test(\n",
    "        head_index=data.edge_index[0],\n",
    "        rel_type=data.edge_type,\n",
    "        tail_index=data.edge_index[1],\n",
    "        batch_size=20000,\n",
    "        k_list=[1,3,5,10],\n",
    "    )\n",
    "\n",
    "\n",
    "for epoch in range(1, 101):\n",
    "    loss = train()\n",
    "    print(f'Epoch: {epoch:03d}, Loss: {loss:.4f}')\n",
    "    if epoch % 25 == 0:\n",
    "        rank, mrr, hr1, hr3, hr5, hr10 = test(val_data)\n",
    "        print(f'Epoch: {epoch:03d}, Val Mean Rank: {rank:.2f}, Val Mean Reciprocal Rank: {mrr:.4f}, \\\n",
    "              Val Hits@1: {hr1:.4f}, Val Hits@3: {hr3:.4f}, Val Hits@5: {hr5:.4f}, Val Hits@10: {hr10:.4f}' )\n",
    "\n",
    "rank, mrr, hits_at_1, hits_at_3, hits_at_5, hits_at_10 = test(test_data)\n",
    "print(f'Test Mean Rank: {rank:.2f}, Test Mean Reciprocal Rank: {mrr:.4f}, Test Hits@1: {hits_at_1:.4f},\\\n",
    "      Test Hits@3: {hits_at_3:.4f}, Val Hits@5: {hits_at_5:.4f}, Test Hits@10: {hits_at_10:.4f}')"
   ]
  },
  {
   "cell_type": "code",
   "execution_count": null,
   "metadata": {},
   "outputs": [],
   "source": []
  },
  {
   "cell_type": "code",
   "execution_count": null,
   "metadata": {},
   "outputs": [],
   "source": []
  }
 ],
 "metadata": {
  "kernelspec": {
   "display_name": "torch-graph",
   "language": "python",
   "name": "torch-graph"
  },
  "language_info": {
   "codemirror_mode": {
    "name": "ipython",
    "version": 3
   },
   "file_extension": ".py",
   "mimetype": "text/x-python",
   "name": "python",
   "nbconvert_exporter": "python",
   "pygments_lexer": "ipython3",
   "version": "3.8.16"
  }
 },
 "nbformat": 4,
 "nbformat_minor": 4
}
