{
 "cells": [
  {
   "cell_type": "code",
   "execution_count": 1,
   "metadata": {},
   "outputs": [
    {
     "name": "stderr",
     "output_type": "stream",
     "text": [
      "/root/miniconda3/envs/torch-graph/lib/python3.8/site-packages/tqdm/auto.py:21: TqdmWarning: IProgress not found. Please update jupyter and ipywidgets. See https://ipywidgets.readthedocs.io/en/stable/user_install.html\n",
      "  from .autonotebook import tqdm as notebook_tqdm\n"
     ]
    }
   ],
   "source": [
    "import os.path as osp\n",
    "\n",
    "import torch\n",
    "import torch.nn.functional as F\n",
    "from ogb.nodeproppred import PygNodePropPredDataset\n",
    "\n",
    "import torch_geometric.transforms as T\n",
    "from torch_geometric.nn import MaskLabel, TransformerConv\n",
    "from torch_geometric.utils import index_to_mask"
   ]
  },
  {
   "cell_type": "code",
   "execution_count": 2,
   "metadata": {},
   "outputs": [
    {
     "name": "stdout",
     "output_type": "stream",
     "text": [
      "Downloading http://snap.stanford.edu/ogb/data/nodeproppred/arxiv.zip\n"
     ]
    },
    {
     "name": "stderr",
     "output_type": "stream",
     "text": [
      "Downloaded 0.08 GB: 100%|██████████| 81/81 [00:10<00:00,  7.63it/s]\n",
      "Processing...\n"
     ]
    },
    {
     "name": "stdout",
     "output_type": "stream",
     "text": [
      "Extracting /data/notebook/KG_folder/kge_benchmark/../data/OGB/arxiv.zip\n",
      "Loading necessary files...\n",
      "This might take a while.\n",
      "Processing graphs...\n"
     ]
    },
    {
     "name": "stderr",
     "output_type": "stream",
     "text": [
      "100%|██████████| 1/1 [00:00<00:00, 11459.85it/s]\n"
     ]
    },
    {
     "name": "stdout",
     "output_type": "stream",
     "text": [
      "Converting graphs into PyG objects...\n"
     ]
    },
    {
     "name": "stderr",
     "output_type": "stream",
     "text": [
      "100%|██████████| 1/1 [00:00<00:00, 2226.28it/s]"
     ]
    },
    {
     "name": "stdout",
     "output_type": "stream",
     "text": [
      "Saving...\n"
     ]
    },
    {
     "name": "stderr",
     "output_type": "stream",
     "text": [
      "\n",
      "Done!\n"
     ]
    }
   ],
   "source": [
    "root = osp.join(osp.dirname(osp.realpath(\"__file__\")), '..', 'data', 'OGB')\n",
    "dataset = PygNodePropPredDataset('ogbn-arxiv', root, T.ToUndirected())"
   ]
  },
  {
   "cell_type": "code",
   "execution_count": 3,
   "metadata": {},
   "outputs": [],
   "source": [
    "class UniMP(torch.nn.Module):\n",
    "    def __init__(self, in_channels, num_classes, hidden_channels, num_layers,\n",
    "                 heads, dropout=0.3):\n",
    "        super().__init__()\n",
    "\n",
    "        self.label_emb = MaskLabel(num_classes, in_channels)\n",
    "\n",
    "        self.convs = torch.nn.ModuleList()\n",
    "        self.norms = torch.nn.ModuleList()\n",
    "        for i in range(1, num_layers + 1):\n",
    "            if i < num_layers:\n",
    "                out_channels = hidden_channels // heads\n",
    "                concat = True\n",
    "            else:\n",
    "                out_channels = num_classes\n",
    "                concat = False\n",
    "            conv = TransformerConv(in_channels, out_channels, heads,\n",
    "                                   concat=concat, beta=True, dropout=dropout)\n",
    "            self.convs.append(conv)\n",
    "            in_channels = hidden_channels\n",
    "\n",
    "            if i < num_layers:\n",
    "                self.norms.append(torch.nn.LayerNorm(hidden_channels))\n",
    "\n",
    "    def forward(self, x, y, edge_index, label_mask):\n",
    "        x = self.label_emb(x, y, label_mask)\n",
    "        for conv, norm in zip(self.convs, self.norms):\n",
    "            x = norm(conv(x, edge_index)).relu()\n",
    "        return self.convs[-1](x, edge_index)"
   ]
  },
  {
   "cell_type": "code",
   "execution_count": 4,
   "metadata": {},
   "outputs": [],
   "source": [
    "device = torch.device('cuda' if torch.cuda.is_available() else 'cpu')\n",
    "data = dataset[0].to(device)\n",
    "data.y = data.y.view(-1)\n",
    "model = UniMP(dataset.num_features, dataset.num_classes, hidden_channels=64,\n",
    "              num_layers=3, heads=2).to(device)\n",
    "optimizer = torch.optim.Adam(model.parameters(), lr=0.001, weight_decay=0.0005)\n",
    "\n",
    "split_idx = dataset.get_idx_split()\n",
    "train_mask = index_to_mask(split_idx['train'], size=data.num_nodes)\n",
    "val_mask = index_to_mask(split_idx['valid'], size=data.num_nodes)\n",
    "test_mask = index_to_mask(split_idx['test'], size=data.num_nodes)"
   ]
  },
  {
   "cell_type": "code",
   "execution_count": 5,
   "metadata": {},
   "outputs": [
    {
     "data": {
      "text/plain": [
       "169343"
      ]
     },
     "execution_count": 5,
     "metadata": {},
     "output_type": "execute_result"
    }
   ],
   "source": [
    "data.num_nodes"
   ]
  },
  {
   "cell_type": "code",
   "execution_count": 7,
   "metadata": {},
   "outputs": [
    {
     "data": {
      "text/plain": [
       "torch.Size([169343, 128])"
      ]
     },
     "execution_count": 7,
     "metadata": {},
     "output_type": "execute_result"
    }
   ],
   "source": [
    "data.x.shape"
   ]
  },
  {
   "cell_type": "code",
   "execution_count": 8,
   "metadata": {},
   "outputs": [
    {
     "data": {
      "text/plain": [
       "torch.Size([2, 2315598])"
      ]
     },
     "execution_count": 8,
     "metadata": {},
     "output_type": "execute_result"
    }
   ],
   "source": [
    "data.edge_index.shape"
   ]
  },
  {
   "cell_type": "code",
   "execution_count": 9,
   "metadata": {},
   "outputs": [],
   "source": [
    "\n",
    "def train(label_rate=0.65):  # How many labels to use for propagation.\n",
    "    model.train()\n",
    "\n",
    "    propagation_mask = MaskLabel.ratio_mask(train_mask, ratio=label_rate)\n",
    "    supervision_mask = train_mask ^ propagation_mask\n",
    "\n",
    "    optimizer.zero_grad()\n",
    "    out = model(data.x, data.y, data.edge_index, propagation_mask)\n",
    "    loss = F.cross_entropy(out[supervision_mask], data.y[supervision_mask])\n",
    "    loss.backward()\n",
    "    optimizer.step()\n",
    "\n",
    "    return float(loss)\n",
    "\n",
    "\n",
    "@torch.no_grad()\n",
    "def test():\n",
    "    model.eval()\n",
    "\n",
    "    propagation_mask = train_mask\n",
    "    out = model(data.x, data.y, data.edge_index, propagation_mask)\n",
    "    pred = out[val_mask].argmax(dim=-1)\n",
    "    val_acc = int((pred == data.y[val_mask]).sum()) / pred.size(0)\n",
    "\n",
    "    propagation_mask = train_mask | val_mask\n",
    "    out = model(data.x, data.y, data.edge_index, propagation_mask)\n",
    "    pred = out[test_mask].argmax(dim=-1)\n",
    "    test_acc = int((pred == data.y[test_mask]).sum()) / pred.size(0)\n",
    "\n",
    "    return val_acc, test_acc\n"
   ]
  },
  {
   "cell_type": "code",
   "execution_count": 10,
   "metadata": {},
   "outputs": [
    {
     "name": "stdout",
     "output_type": "stream",
     "text": [
      "Epoch: 001, Loss: 3.7164, Val: 0.0319, Test: 0.0249\n",
      "Epoch: 002, Loss: 3.5990, Val: 0.0876, Test: 0.0691\n",
      "Epoch: 003, Loss: 3.4928, Val: 0.2245, Test: 0.2322\n",
      "Epoch: 004, Loss: 3.3959, Val: 0.2778, Test: 0.2686\n",
      "Epoch: 005, Loss: 3.3111, Val: 0.2889, Test: 0.2871\n",
      "Epoch: 006, Loss: 3.2340, Val: 0.3129, Test: 0.3296\n",
      "Epoch: 007, Loss: 3.1703, Val: 0.3401, Test: 0.3682\n",
      "Epoch: 008, Loss: 3.1101, Val: 0.3664, Test: 0.4032\n",
      "Epoch: 009, Loss: 3.0578, Val: 0.3963, Test: 0.4460\n",
      "Epoch: 010, Loss: 3.0015, Val: 0.4277, Test: 0.4817\n",
      "Epoch: 011, Loss: 2.9554, Val: 0.4552, Test: 0.5076\n",
      "Epoch: 012, Loss: 2.8996, Val: 0.4768, Test: 0.5241\n",
      "Epoch: 013, Loss: 2.8558, Val: 0.4964, Test: 0.5392\n",
      "Epoch: 014, Loss: 2.8164, Val: 0.5123, Test: 0.5517\n",
      "Epoch: 015, Loss: 2.7635, Val: 0.5265, Test: 0.5622\n",
      "Epoch: 016, Loss: 2.7115, Val: 0.5394, Test: 0.5720\n",
      "Epoch: 017, Loss: 2.6707, Val: 0.5491, Test: 0.5792\n",
      "Epoch: 018, Loss: 2.6201, Val: 0.5558, Test: 0.5838\n",
      "Epoch: 019, Loss: 2.5787, Val: 0.5608, Test: 0.5872\n",
      "Epoch: 020, Loss: 2.5279, Val: 0.5661, Test: 0.5903\n",
      "Epoch: 021, Loss: 2.4889, Val: 0.5724, Test: 0.5939\n",
      "Epoch: 022, Loss: 2.4463, Val: 0.5792, Test: 0.6007\n",
      "Epoch: 023, Loss: 2.4101, Val: 0.5863, Test: 0.6073\n",
      "Epoch: 024, Loss: 2.3774, Val: 0.5929, Test: 0.6146\n",
      "Epoch: 025, Loss: 2.3249, Val: 0.5983, Test: 0.6196\n",
      "Epoch: 026, Loss: 2.3035, Val: 0.6024, Test: 0.6234\n",
      "Epoch: 027, Loss: 2.2574, Val: 0.6069, Test: 0.6270\n",
      "Epoch: 028, Loss: 2.2156, Val: 0.6114, Test: 0.6302\n",
      "Epoch: 029, Loss: 2.1747, Val: 0.6164, Test: 0.6345\n",
      "Epoch: 030, Loss: 2.1380, Val: 0.6222, Test: 0.6396\n",
      "Epoch: 031, Loss: 2.1206, Val: 0.6278, Test: 0.6454\n",
      "Epoch: 032, Loss: 2.0749, Val: 0.6309, Test: 0.6487\n",
      "Epoch: 033, Loss: 2.0632, Val: 0.6341, Test: 0.6508\n",
      "Epoch: 034, Loss: 2.0289, Val: 0.6365, Test: 0.6522\n",
      "Epoch: 035, Loss: 1.9901, Val: 0.6380, Test: 0.6530\n",
      "Epoch: 036, Loss: 1.9541, Val: 0.6400, Test: 0.6536\n",
      "Epoch: 037, Loss: 1.9343, Val: 0.6410, Test: 0.6548\n",
      "Epoch: 038, Loss: 1.9130, Val: 0.6422, Test: 0.6556\n",
      "Epoch: 039, Loss: 1.8835, Val: 0.6443, Test: 0.6570\n",
      "Epoch: 040, Loss: 1.8730, Val: 0.6459, Test: 0.6584\n",
      "Epoch: 041, Loss: 1.8390, Val: 0.6475, Test: 0.6602\n",
      "Epoch: 042, Loss: 1.8143, Val: 0.6490, Test: 0.6617\n",
      "Epoch: 043, Loss: 1.7877, Val: 0.6508, Test: 0.6635\n",
      "Epoch: 044, Loss: 1.7663, Val: 0.6528, Test: 0.6659\n",
      "Epoch: 045, Loss: 1.7600, Val: 0.6546, Test: 0.6676\n",
      "Epoch: 046, Loss: 1.7236, Val: 0.6558, Test: 0.6692\n",
      "Epoch: 047, Loss: 1.6989, Val: 0.6575, Test: 0.6709\n",
      "Epoch: 048, Loss: 1.6808, Val: 0.6588, Test: 0.6715\n",
      "Epoch: 049, Loss: 1.6689, Val: 0.6604, Test: 0.6718\n",
      "Epoch: 050, Loss: 1.6527, Val: 0.6620, Test: 0.6724\n",
      "Epoch: 051, Loss: 1.6273, Val: 0.6635, Test: 0.6735\n",
      "Epoch: 052, Loss: 1.6101, Val: 0.6651, Test: 0.6744\n",
      "Epoch: 053, Loss: 1.6083, Val: 0.6669, Test: 0.6762\n",
      "Epoch: 054, Loss: 1.5837, Val: 0.6680, Test: 0.6763\n",
      "Epoch: 055, Loss: 1.5628, Val: 0.6691, Test: 0.6773\n",
      "Epoch: 056, Loss: 1.5416, Val: 0.6709, Test: 0.6786\n",
      "Epoch: 057, Loss: 1.5374, Val: 0.6725, Test: 0.6800\n",
      "Epoch: 058, Loss: 1.5245, Val: 0.6741, Test: 0.6807\n",
      "Epoch: 059, Loss: 1.5161, Val: 0.6760, Test: 0.6819\n",
      "Epoch: 060, Loss: 1.4859, Val: 0.6780, Test: 0.6839\n",
      "Epoch: 061, Loss: 1.4834, Val: 0.6798, Test: 0.6853\n",
      "Epoch: 062, Loss: 1.4694, Val: 0.6805, Test: 0.6853\n",
      "Epoch: 063, Loss: 1.4586, Val: 0.6808, Test: 0.6849\n",
      "Epoch: 064, Loss: 1.4432, Val: 0.6813, Test: 0.6845\n",
      "Epoch: 065, Loss: 1.4477, Val: 0.6822, Test: 0.6863\n",
      "Epoch: 066, Loss: 1.4343, Val: 0.6839, Test: 0.6898\n",
      "Epoch: 067, Loss: 1.3973, Val: 0.6858, Test: 0.6922\n",
      "Epoch: 068, Loss: 1.4088, Val: 0.6877, Test: 0.6938\n",
      "Epoch: 069, Loss: 1.3905, Val: 0.6892, Test: 0.6955\n",
      "Epoch: 070, Loss: 1.4003, Val: 0.6898, Test: 0.6949\n",
      "Epoch: 071, Loss: 1.3694, Val: 0.6894, Test: 0.6929\n",
      "Epoch: 072, Loss: 1.3655, Val: 0.6894, Test: 0.6912\n",
      "Epoch: 073, Loss: 1.3683, Val: 0.6894, Test: 0.6909\n",
      "Epoch: 074, Loss: 1.3499, Val: 0.6906, Test: 0.6934\n",
      "Epoch: 075, Loss: 1.3409, Val: 0.6920, Test: 0.6981\n",
      "Epoch: 076, Loss: 1.3318, Val: 0.6931, Test: 0.7013\n",
      "Epoch: 077, Loss: 1.3302, Val: 0.6945, Test: 0.7032\n",
      "Epoch: 078, Loss: 1.3239, Val: 0.6951, Test: 0.7037\n",
      "Epoch: 079, Loss: 1.3204, Val: 0.6957, Test: 0.7018\n",
      "Epoch: 080, Loss: 1.3024, Val: 0.6955, Test: 0.7005\n",
      "Epoch: 081, Loss: 1.2984, Val: 0.6961, Test: 0.6995\n",
      "Epoch: 082, Loss: 1.2939, Val: 0.6970, Test: 0.7000\n",
      "Epoch: 083, Loss: 1.2850, Val: 0.6981, Test: 0.7016\n",
      "Epoch: 084, Loss: 1.2803, Val: 0.6989, Test: 0.7043\n",
      "Epoch: 085, Loss: 1.2605, Val: 0.6997, Test: 0.7059\n",
      "Epoch: 086, Loss: 1.2716, Val: 0.7005, Test: 0.7062\n",
      "Epoch: 087, Loss: 1.2590, Val: 0.7011, Test: 0.7063\n",
      "Epoch: 088, Loss: 1.2560, Val: 0.7019, Test: 0.7041\n",
      "Epoch: 089, Loss: 1.2525, Val: 0.7006, Test: 0.7008\n",
      "Epoch: 090, Loss: 1.2432, Val: 0.6992, Test: 0.6977\n",
      "Epoch: 091, Loss: 1.2308, Val: 0.6992, Test: 0.6966\n",
      "Epoch: 092, Loss: 1.2315, Val: 0.7009, Test: 0.7006\n",
      "Epoch: 093, Loss: 1.2328, Val: 0.7029, Test: 0.7059\n",
      "Epoch: 094, Loss: 1.2277, Val: 0.7044, Test: 0.7101\n",
      "Epoch: 095, Loss: 1.2112, Val: 0.7050, Test: 0.7115\n",
      "Epoch: 096, Loss: 1.2196, Val: 0.7053, Test: 0.7097\n",
      "Epoch: 097, Loss: 1.2086, Val: 0.7034, Test: 0.7065\n",
      "Epoch: 098, Loss: 1.2220, Val: 0.7033, Test: 0.7048\n",
      "Epoch: 099, Loss: 1.1960, Val: 0.7035, Test: 0.7040\n",
      "Epoch: 100, Loss: 1.2083, Val: 0.7045, Test: 0.7055\n"
     ]
    }
   ],
   "source": [
    "for epoch in range(1, 101):\n",
    "    loss = train()\n",
    "    val_acc, test_acc = test()\n",
    "    print(f'Epoch: {epoch:03d}, Loss: {loss:.4f}, Val: {val_acc:.4f}, '\n",
    "          f'Test: {test_acc:.4f}')"
   ]
  },
  {
   "cell_type": "code",
   "execution_count": null,
   "metadata": {},
   "outputs": [],
   "source": []
  }
 ],
 "metadata": {
  "kernelspec": {
   "display_name": "torch-graph",
   "language": "python",
   "name": "torch-graph"
  },
  "language_info": {
   "codemirror_mode": {
    "name": "ipython",
    "version": 3
   },
   "file_extension": ".py",
   "mimetype": "text/x-python",
   "name": "python",
   "nbconvert_exporter": "python",
   "pygments_lexer": "ipython3",
   "version": "3.8.16"
  },
  "orig_nbformat": 4
 },
 "nbformat": 4,
 "nbformat_minor": 2
}
